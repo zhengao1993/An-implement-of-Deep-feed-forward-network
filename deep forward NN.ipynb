{
 "cells": [
  {
   "cell_type": "code",
   "execution_count": 9,
   "metadata": {},
   "outputs": [
    {
     "name": "stdout",
     "output_type": "stream",
     "text": [
      "The training set contains 60000 images\n",
      "The testing set contains 10000 images\n",
      "The shape of the image is (28, 28)\n"
     ]
    }
   ],
   "source": [
    "import os\n",
    "import numpy as np\n",
    "import struct\n",
    "import matplotlib.pyplot as plt\n",
    "import random\n",
    "\n",
    "#path for my desktop at home\n",
    "path = 'C:/Users/zheng/Dropbox/Deep Learning/MNIST/'   # the training set is stored in this directory\n",
    "#path for my laptop\n",
    "#path = '/Users/zhengao/Dropbox/Deep Learning/MNIST/'   # the training set is stored in this directory\n",
    "#path = '/home/gaoz2/'    #path for accre\n",
    "\n",
    "# Train data and Test data\n",
    "fname_train_images = os.path.join(path, 'train-images.idx3-ubyte')  # the training set image file path\n",
    "fname_train_labels = os.path.join(path, 'train-labels.idx1-ubyte')  # the training set label file path\n",
    "fname_test_images = os.path.join(path, 't10k-images.idx3-ubyte')  # the testing set image file path\n",
    "fname_test_labels = os.path.join(path, 't10k-labels.idx1-ubyte')  # the testing set label file path\n",
    "# open the label file and load it to the \"train_labels\"\n",
    "with open(fname_train_labels, 'rb') as flbl:\n",
    "    magic, num = struct.unpack(\">II\", flbl.read(8))\n",
    "    train_labels = np.fromfile(flbl, dtype=np.uint8)\n",
    "# open the image file and load it to the \"train_images\"\n",
    "with open(fname_train_images, 'rb') as fimg:\n",
    "    magic, num, rows, cols = struct.unpack(\">IIII\", fimg.read(16))\n",
    "    train_images = np.fromfile(fimg, dtype=np.uint8).reshape(len(train_labels), rows, cols)\n",
    "# open the label file and load it to the \"test_labels\"\n",
    "with open(fname_test_labels, 'rb') as flbl:\n",
    "    magic, num = struct.unpack(\">II\", flbl.read(8))\n",
    "    test_labels = np.fromfile(flbl, dtype=np.uint8)\n",
    "# open the image file and load it to the \"test_images\"\n",
    "with open(fname_test_images, 'rb') as fimg:\n",
    "    magic, num, rows, cols = struct.unpack(\">IIII\", fimg.read(16))\n",
    "    test_images = np.fromfile(fimg, dtype=np.uint8).reshape(len(test_labels), rows, cols)\n",
    "\n",
    "len_train = len(train_images)\n",
    "len_test = len(test_images)\n",
    "print('The training set contains', len(train_images), 'images')  # print the how many images contained in the training set\n",
    "print('The testing set contains', len(test_images), 'images')  # print the how many images contained in the testing set\n",
    "print('The shape of the image is', train_images[0].shape)  # print the shape of the image"
   ]
  },
  {
   "cell_type": "markdown",
   "metadata": {},
   "source": [
    "Vectorization $X = [x^{(1)}, x^{(2)}, \\dots, x^{(m)}]$, which is a $n_x \\times m$ matrix. And feature scaling $X$ by dividing 255."
   ]
  },
  {
   "cell_type": "code",
   "execution_count": 10,
   "metadata": {
    "collapsed": true
   },
   "outputs": [],
   "source": [
    "number = 5    #the number we want to recognize\n",
    "#transform labels into 0 if it is not the given number\n",
    "train_labels = train_labels/number\n",
    "for i in range(len_train):\n",
    "    if (train_labels[i] != 1):\n",
    "        train_labels[i] = 0\n",
    "test_labels = test_labels/number\n",
    "for i in range(len_test):\n",
    "    if (test_labels[i] != 1):\n",
    "        test_labels[i] = 0\n",
    "#vectorization train_images as matrix train_images_reshape, whose size is n_x*m\n",
    "len_images = len(train_images[0]) * len(train_images[0][0])\n",
    "X = train_images.transpose(1,2,0).reshape(len_images,-1)\n",
    "test_X = test_images.transpose(1,2,0).reshape(len_images,-1)\n",
    "#Feature Scaling\n",
    "A0 = X/255\n",
    "X = A0\n",
    "test_A0 = test_X/255\n",
    "test_X = test_A0\n",
    "Y = train_labels.reshape(1,len_train)\n",
    "test_Y = test_labels"
   ]
  },
  {
   "cell_type": "code",
   "execution_count": 11,
   "metadata": {
    "collapsed": true
   },
   "outputs": [],
   "source": [
    "#activation functions\n",
    "def tanh(x):\n",
    "    return 2/(1+np.exp(-2*x))-1; #Zi is variable\n",
    "def d_tanh(x):\n",
    "    return 1 - np.square(x); #Ai is variable\n",
    "def sigmoid(x):\n",
    "    return 1/(1+np.exp(-x)); #Zi is variable\n",
    "def d_sigmoid(x):\n",
    "    return np.multiply(x,1-x); #Ai is variable\n",
    "def ReLU(x):\n",
    "    x[x<0] = 0\n",
    "    return x\n",
    "def d_ReLU(x):\n",
    "    x[x>= 0] = 1\n",
    "    x[x<0] = 0\n",
    "    return x\n",
    "\n",
    "#hyperparameters\n",
    "alpha = 0.0005  #learning rate\n",
    "pho1 = 0.8  #decay rate parameter\n",
    "pho2 = 0.999\n",
    "delta = 10**(-8)  #constant number number for numberical stabilization\n",
    "mini_batch = 256  #minibatch size\n",
    "iteration = 201   #iterations\n",
    "units = np.array([len_images,20,10,1])  #number of units in each layer\n",
    "def act(x):\n",
    "    return ReLU(x)\n",
    "def d_act(x):\n",
    "    return d_ReLU(x)\n",
    "\n",
    "layer = len(units)-1; #layers of the neural network\n",
    "batch_number = int((len_train-1)/mini_batch) + 1\n"
   ]
  },
  {
   "cell_type": "code",
   "execution_count": 12,
   "metadata": {
    "scrolled": true
   },
   "outputs": [
    {
     "name": "stdout",
     "output_type": "stream",
     "text": [
      "after  0  iterations\n",
      "the training error is:  0.09035\n",
      "the test error is:      0.0892\n",
      "the cost function is:   0.183234365857\n",
      "after  10  iterations\n",
      "the training error is:  0.0272666666667\n",
      "the test error is:      0.0257\n",
      "the cost function is:   0.087164060176\n",
      "after  20  iterations\n",
      "the training error is:  0.0237666666667\n",
      "the test error is:      0.0233\n",
      "the cost function is:   0.0788296917888\n",
      "after  30  iterations\n",
      "the training error is:  0.0231666666667\n",
      "the test error is:      0.0234\n",
      "the cost function is:   0.0763158306182\n",
      "after  40  iterations\n",
      "the training error is:  0.02295\n",
      "the test error is:      0.0232\n",
      "the cost function is:   0.0754966610002\n",
      "after  50  iterations\n",
      "the training error is:  0.0232333333333\n",
      "the test error is:      0.0233\n",
      "the cost function is:   0.0766901248268\n",
      "after  60  iterations\n",
      "the training error is:  0.0237666666667\n",
      "the test error is:      0.0235\n",
      "the cost function is:   0.0789750678953\n",
      "after  70  iterations\n",
      "the training error is:  0.0234666666667\n",
      "the test error is:      0.0231\n",
      "the cost function is:   0.0779639777424\n",
      "after  80  iterations\n",
      "the training error is:  0.0227\n",
      "the test error is:      0.0226\n",
      "the cost function is:   0.076621534862\n",
      "after  90  iterations\n",
      "the training error is:  0.0242\n",
      "the test error is:      0.0243\n",
      "the cost function is:   0.0783641523381\n",
      "after  100  iterations\n",
      "the training error is:  0.0239333333333\n",
      "the test error is:      0.0241\n",
      "the cost function is:   0.0778958634138\n",
      "after  110  iterations\n",
      "the training error is:  0.02335\n",
      "the test error is:      0.0236\n",
      "the cost function is:   0.0765749392619\n",
      "after  120  iterations\n",
      "the training error is:  0.0229166666667\n",
      "the test error is:      0.0233\n",
      "the cost function is:   0.0761122441993\n",
      "after  130  iterations\n",
      "the training error is:  0.0227666666667\n",
      "the test error is:      0.0233\n",
      "the cost function is:   0.0744927880543\n",
      "after  140  iterations\n",
      "the training error is:  0.02295\n",
      "the test error is:      0.0235\n",
      "the cost function is:   0.0741384268397\n",
      "after  150  iterations\n",
      "the training error is:  0.0222833333333\n",
      "the test error is:      0.024\n",
      "the cost function is:   0.0733178798581\n",
      "after  160  iterations\n",
      "the training error is:  0.0219666666667\n",
      "the test error is:      0.0245\n",
      "the cost function is:   0.0725490702752\n",
      "after  170  iterations\n",
      "the training error is:  0.0225333333333\n",
      "the test error is:      0.024\n",
      "the cost function is:   0.0723891826174\n",
      "after  180  iterations\n",
      "the training error is:  0.0219\n",
      "the test error is:      0.024\n",
      "the cost function is:   0.0715073657408\n",
      "after  190  iterations\n",
      "the training error is:  0.0220166666667\n",
      "the test error is:      0.0238\n",
      "the cost function is:   0.070779836837\n",
      "after  200  iterations\n",
      "the training error is:  0.0222166666667\n",
      "the test error is:      0.0237\n",
      "the cost function is:   0.0707541966863\n"
     ]
    }
   ],
   "source": [
    "#Initialize\n",
    "for depth in range(1,layer+1):\n",
    "    globals()['W%s' % depth] = np.random.uniform(-1/np.sqrt(units[depth-1]),1/np.sqrt(units[depth-1]),(units[depth],units[depth-1]))\n",
    "    globals()['b%s' % depth] = np.zeros(units[depth]).reshape(units[depth],1)\n",
    "    globals()['sdW%s' % depth] = np.zeros((units[depth],units[depth-1]))\n",
    "    globals()['sdb%s' % depth] = np.zeros(units[depth]).reshape(units[depth],1)\n",
    "    globals()['rdW%s' % depth] = np.zeros((units[depth],units[depth-1]))\n",
    "    globals()['rdb%s' % depth] = np.zeros(units[depth]).reshape(units[depth],1)\n",
    "#Apply multi-layer NN algorithm\n",
    "t = 0\n",
    "cost = np.ones(iteration)\n",
    "error_train = np.ones(iteration)\n",
    "error_test = np.ones(iteration)\n",
    "for i in range(iteration):\n",
    "    #shuffle the training dataset\n",
    "    XY = np.concatenate((X,Y),axis=0)\n",
    "    np.random.shuffle(XY.T)\n",
    "    for batch_id in range(1,batch_number+1):\n",
    "        A0 = XY[:784 , mini_batch*(batch_id - 1):mini_batch*(batch_id)]\n",
    "        mini_Y = XY[784: , mini_batch*(batch_id - 1):mini_batch*(batch_id)]\n",
    "        len_train = len(A0[0])\n",
    "    \n",
    "        #forward propagation\n",
    "        for depth in range(1,layer):\n",
    "            globals()['Z%s' % depth] = np.dot(globals()['W%s' % depth],globals()['A%s' % (depth-1)]) + globals()['b%s' % depth]\n",
    "            globals()['A%s' % depth] = act(globals()['Z%s' % depth]);\n",
    "        globals()['Z%s' % layer] = np.dot(globals()['W%s' % layer],globals()['A%s' % (layer-1)]) + globals()['b%s' % layer]\n",
    "        globals()['A%s' % layer] = 1/(1+np.exp(-globals()['Z%s' % layer]))\n",
    "\n",
    "        #compute cost function\n",
    "        #temp = -np.dot(mini_Y,np.log(globals()['A%s' % layer]).reshape(len_train,1)) - np.dot((1-mini_Y),np.log(1-globals()['A%s' % layer]).reshape(len_train,1))\n",
    "        #cost[i] = temp/len_train\n",
    "\n",
    "        #back propagation\n",
    "        globals()['dZ%s' % layer] = globals()['A%s' % layer] - mini_Y\n",
    "        globals()['dW%s' % layer] = np.dot(globals()['dZ%s' % layer],np.transpose(globals()['A%s' % (layer-1)]))/len_train\n",
    "        globals()['db%s' % layer] = (sum(np.transpose(globals()['dZ%s' % layer]))/len_train).reshape(1,1)\n",
    "        for depth in range(1,layer):\n",
    "            depth = layer - depth;\n",
    "            globals()['WTdZ%s' % (depth+1)] = np.dot(globals()['W%s' % (depth+1)].reshape(units[depth],units[depth+1]),globals()['dZ%s' % (depth+1)].reshape(units[depth+1],len_train));\n",
    "            globals()['dg%s' % depth] = d_act(globals()['A%s' % depth]);\n",
    "            globals()['dZ%s' % depth] = np.multiply(globals()['dg%s' % depth],globals()['WTdZ%s' % (depth+1)]);\n",
    "            globals()['dW%s' % depth] = np.dot(globals()['dZ%s' % depth],np.transpose(globals()['A%s' % (depth-1)]))/len_train;\n",
    "            globals()['db%s' % depth] = (np.transpose(sum(np.transpose(globals()['dZ%s' % depth])))/len_train).reshape(units[depth],1);\n",
    "        t = t + 1\n",
    "        \n",
    "        #upgrade\n",
    "        for depth in range(1,(layer+1)):\n",
    "            globals()['sdW%s' % depth] = pho1 * globals()['sdW%s' % depth] + (1-pho1)*globals()['dW%s' % depth]\n",
    "            globals()['sdb%s' % depth] = pho1 * globals()['sdb%s' % depth] + (1-pho1)*globals()['db%s' % depth]\n",
    "            globals()['rdW%s' % depth] = pho2 * globals()['rdW%s' % depth] + (1-pho2)*np.multiply(globals()['dW%s' % depth],globals()['dW%s' % depth])\n",
    "            globals()['rdb%s' % depth] = pho2 * globals()['rdb%s' % depth] + (1-pho2)*np.multiply(globals()['db%s' % depth],globals()['db%s' % depth])\n",
    "            \n",
    "            globals()['hat_sdW%s' % depth] = globals()['sdW%s' % depth]/(1-pho1**t)\n",
    "            globals()['hat_sdb%s' % depth] = globals()['sdb%s' % depth]/(1-pho1**t)\n",
    "            globals()['hat_rdW%s' % depth] = globals()['rdW%s' % depth]/(1-pho2**t)\n",
    "            globals()['hat_rdb%s' % depth] = globals()['rdb%s' % depth]/(1-pho2**t)\n",
    "            \n",
    "            globals()['W%s' % depth] = globals()['W%s' % depth] - alpha*(np.divide(globals()['hat_sdW%s' % depth],(np.sqrt(globals()['hat_rdW%s' % depth])+delta)))\n",
    "            globals()['b%s' % depth] = globals()['b%s' % depth] - alpha*(np.divide(globals()['hat_sdb%s' % depth],(np.sqrt(globals()['hat_rdb%s' % depth])+delta)))\n",
    "        \n",
    "    A0 = X\n",
    "    len_train = len(A0[0])\n",
    "    #the training error\n",
    "    for depth in range(1,layer):\n",
    "        globals()['Z%s' % depth] = np.dot(globals()['W%s' % depth],globals()['A%s' % (depth-1)]) + globals()['b%s' % depth]\n",
    "        globals()['A%s' % depth] = act(globals()['Z%s' % depth]);\n",
    "    globals()['Z%s' % layer] = np.dot(globals()['W%s' % layer],globals()['A%s' % (layer-1)]) + globals()['b%s' % layer]\n",
    "    globals()['A%s' % layer] = 1/(1+np.exp(-globals()['Z%s' % layer]))\n",
    "\n",
    "    output = (2*globals()['A%s' % layer]).astype(int)\n",
    "    error_train_temp = sum(abs(output - Y).reshape(len_train,1))\n",
    "    error_train[i] = error_train_temp/len_train\n",
    "    \n",
    "    #the test error\n",
    "    for depth in range(1,layer):\n",
    "        globals()['test_Z%s' % depth] = np.dot(globals()['W%s' % depth],globals()['test_A%s' % (depth-1)]) + globals()['b%s' % depth]\n",
    "        globals()['test_A%s' % depth] = act(globals()['test_Z%s' % depth]);\n",
    "    globals()['test_Z%s' % layer] = np.dot(globals()['W%s' % layer],globals()['test_A%s' % (layer-1)]) + globals()['b%s' % layer]\n",
    "    globals()['test_A%s' % layer] = 1/(1+np.exp(-globals()['test_Z%s' % layer]))\n",
    "    test_output = (2*globals()['test_A%s' % layer]).astype(int)\n",
    "    error_test_temp = sum(abs(test_output - test_Y).reshape(len_test,1))\n",
    "    error_test[i] = error_test_temp/len_test\n",
    "    \n",
    "    #compute cost function\n",
    "    temp = -np.dot(Y,np.log(globals()['A%s' % layer]).reshape(len_train,1)) - np.dot((1-Y),np.log(1-globals()['A%s' % layer]).reshape(len_train,1))\n",
    "    cost[i] = temp/len_train\n",
    "\n",
    "    if (i % 10) == 0:\n",
    "        print(\"after \",i,\" iterations\")\n",
    "        print(\"the training error is: \", error_train[i])\n",
    "        print(\"the test error is:     \", error_test[i])\n",
    "        print(\"the cost function is:  \", cost[i])"
   ]
  },
  {
   "cell_type": "code",
   "execution_count": 13,
   "metadata": {},
   "outputs": [
    {
     "data": {
      "text/plain": [
       "(784, 60000)"
      ]
     },
     "execution_count": 13,
     "metadata": {},
     "output_type": "execute_result"
    }
   ],
   "source": [
    "A0.shape"
   ]
  },
  {
   "cell_type": "code",
   "execution_count": 14,
   "metadata": {},
   "outputs": [
    {
     "name": "stdout",
     "output_type": "stream",
     "text": [
      "the training error is:  0.0222166666667\n"
     ]
    },
    {
     "data": {
      "image/png": "[encoded data removed]",
      "text/plain": [
       "<matplotlib.figure.Figure at 0x23f80250978>"
      ]
     },
     "metadata": {},
     "output_type": "display_data"
    }
   ],
   "source": [
    "#the training error for each iteration\n",
    "print(\"the training error is: \", error_train[200])\n",
    "x = list(range(200))\n",
    "#the plot of the training error\n",
    "plt.plot(x, error_train[1:], 'b')\n",
    "plt.ylabel('training error')\n",
    "plt.show()"
   ]
  },
  {
   "cell_type": "code",
   "execution_count": 15,
   "metadata": {
    "scrolled": true
   },
   "outputs": [
    {
     "name": "stdout",
     "output_type": "stream",
     "text": [
      "the test error is:  0.0237\n"
     ]
    },
    {
     "data": {
      "image/png": "[encoded data removed]",
      "text/plain": [
       "<matplotlib.figure.Figure at 0x23f802501d0>"
      ]
     },
     "metadata": {},
     "output_type": "display_data"
    }
   ],
   "source": [
    "#the test error for each iteration\n",
    "print(\"the test error is: \", error_test[200])\n",
    "\n",
    "#the plot of the test error\n",
    "plt.plot(x, error_test[1:], 'b')\n",
    "plt.ylabel('test error')\n",
    "plt.show()"
   ]
  },
  {
   "cell_type": "code",
   "execution_count": 16,
   "metadata": {},
   "outputs": [
    {
     "name": "stdout",
     "output_type": "stream",
     "text": [
      "the value of the cost function is:  0.0707541966863\n"
     ]
    },
    {
     "data": {
      "image/png": "[encoded data removed]",
      "text/plain": [
       "<matplotlib.figure.Figure at 0x23f80041b00>"
      ]
     },
     "metadata": {},
     "output_type": "display_data"
    }
   ],
   "source": [
    "#the cost function value for each iteration\n",
    "print(\"the value of the cost function is: \", cost[200])\n",
    "\n",
    "plt.plot(x, cost[1:], 'b')\n",
    "plt.ylabel('cost function')\n",
    "plt.show()"
   ]
  },
  {
   "cell_type": "code",
   "execution_count": null,
   "metadata": {
    "collapsed": true
   },
   "outputs": [],
   "source": []
  }
 ],
 "metadata": {
  "kernelspec": {
   "display_name": "Python 3",
   "language": "python",
   "name": "python3"
  },
  "language_info": {
   "codemirror_mode": {
    "name": "ipython",
    "version": 3
   },
   "file_extension": ".py",
   "mimetype": "text/x-python",
   "name": "python",
   "nbconvert_exporter": "python",
   "pygments_lexer": "ipython3",
   "version": "3.6.3"
  }
 },
 "nbformat": 4,
 "nbformat_minor": 2
}
